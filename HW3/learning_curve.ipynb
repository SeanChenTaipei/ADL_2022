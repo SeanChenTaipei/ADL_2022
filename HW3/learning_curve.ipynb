{
 "cells": [
  {
   "cell_type": "code",
   "execution_count": null,
   "id": "a197f814-5f9f-433d-a015-e0a5eeda1faf",
   "metadata": {},
   "outputs": [],
   "source": [
    "import matplotlib.pyplot as plt\n",
    "x = [1, 7, 8, 9, 10] # I only do predict on these epochs. \n",
    "data = {\"rouge-1\": [19.2, 23.81, 23.88, 24.12, 24.12],\n",
    "        \"rouge-2\": [7.13, 9.31, 9.24, 9.37, 9.4],\n",
    "        \"rouge-l\": [17.18, 21.57, 21.51, 21.71, 21.69]}\n",
    "plt.figure(figsize = (8, 3))\n",
    "plt.title('Learning Curve')\n",
    "# x = list(range(1, len(rouge_1)+1))\n",
    "plt.plot(x, data[\"rouge-1\"], label ='rouge-1')\n",
    "plt.plot(x, data[\"rouge-2\"], label ='rouge-2')\n",
    "plt.plot(x, data[\"rouge-l\"], label ='rouge-l')\n",
    "plt.xlabel('Epoch')\n",
    "plt.legend()\n",
    "plt.grid(True)"
   ]
  }
 ],
 "metadata": {
  "kernelspec": {
   "display_name": "adl-hw2",
   "language": "python",
   "name": "adl-hw2"
  },
  "language_info": {
   "codemirror_mode": {
    "name": "ipython",
    "version": 3
   },
   "file_extension": ".py",
   "mimetype": "text/x-python",
   "name": "python",
   "nbconvert_exporter": "python",
   "pygments_lexer": "ipython3",
   "version": "3.9.13"
  }
 },
 "nbformat": 4,
 "nbformat_minor": 5
}
