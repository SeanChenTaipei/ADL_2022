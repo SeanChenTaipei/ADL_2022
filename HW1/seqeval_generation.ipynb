{
 "cells": [
  {
   "cell_type": "code",
   "execution_count": 7,
   "id": "c8059fdf-0688-44bc-97f2-5ee7fb1e8ca4",
   "metadata": {},
   "outputs": [],
   "source": [
    "import numpy as np\n",
    "import json\n",
    "import pickle\n",
    "from argparse import ArgumentParser, Namespace\n",
    "from pathlib import Path\n",
    "from typing import Dict\n",
    "import pandas as pd\n",
    "\n",
    "import torch\n",
    "from torch import nn\n",
    "from torch.utils.data import Dataset, DataLoader\n",
    "# from tqdm import trange\n",
    "\n",
    "from dataset import SeqClsDataset, SeqTaggingClsDataset\n",
    "from utils import Vocab\n",
    "from sklearn.metrics import accuracy_score\n",
    "\n",
    "from importlib import reload\n",
    "from seqeval.metrics import classification_report\n",
    "from seqeval.scheme import IOB2\n",
    "from seqeval.metrics import f1_score\n",
    "from seqeval.metrics import precision_score\n",
    "from seqeval.metrics import accuracy_score\n",
    "from seqeval.metrics import recall_score"
   ]
  },
  {
   "cell_type": "code",
   "execution_count": 8,
   "id": "8f03a371-171b-4b1e-a375-b8f5f2d2b5a2",
   "metadata": {},
   "outputs": [],
   "source": [
    "TRAIN = \"train\"\n",
    "DEV = \"eval\"\n",
    "SPLITS = [TRAIN, DEV]\n",
    "cache_dir = Path(\"cache/slot/\")\n",
    "data_dir = Path(\"data/slot/\")\n",
    "with open(\"cache/slot/vocab.pkl\", \"rb\") as f:\n",
    "        vocab: Vocab = pickle.load(f)\n",
    "slot_idx_path = Path(\"cache/slot/tag2idx.json\")\n",
    "slot2idx: Dict[str, int] = json.loads(slot_idx_path.read_text()) ##dict of classes\n",
    "data_paths = {split: data_dir / f\"{split}.json\" for split in SPLITS} ## 2 items, a dict\n",
    "data = {split: json.loads(path.read_text()) for split, path in data_paths.items()}\n",
    "datasets: Dict[str, SeqTaggingClsDataset] = {\n",
    "    split: SeqTaggingClsDataset(split_data, vocab, slot2idx, 128)\n",
    "    for split, split_data in data.items()\n",
    "}\n",
    "data = json.loads(Path(\"./data/slot/test.json\").read_text())\n",
    "dataset = SeqTaggingClsDataset(data, vocab, slot2idx, 128, test=True)"
   ]
  },
  {
   "cell_type": "code",
   "execution_count": 9,
   "id": "0081d2b9-d300-4da7-9cba-9fcc696879db",
   "metadata": {},
   "outputs": [
    {
     "name": "stdout",
     "output_type": "stream",
     "text": [
      "accuary:  0.9680648840451147\n",
      "p:  0.792147806004619\n",
      "r:  0.8147268408551069\n",
      "f1:  0.8032786885245903\n",
      "              precision    recall  f1-score   support\n",
      "\n",
      "        date       0.72      0.74      0.73       206\n",
      "  first_name       0.99      0.98      0.99       102\n",
      "   last_name       0.92      0.94      0.93        78\n",
      "      people       0.71      0.72      0.72       238\n",
      "        time       0.83      0.87      0.85       218\n",
      "\n",
      "   micro avg       0.80      0.81      0.81       842\n",
      "   macro avg       0.83      0.85      0.84       842\n",
      "weighted avg       0.80      0.81      0.81       842\n",
      "\n"
     ]
    }
   ],
   "source": [
    "y_true = [item['tags'] for item in datasets[\"eval\"]]\n",
    "y_pred = pd.read_csv(\"eval.csv\")['tags'].to_list()\n",
    "y_pred = [item.split(\" \") for item in y_pred]\n",
    "print(\"accuary: \", accuracy_score(y_true, y_pred))\n",
    "print(\"p: \", precision_score(y_true, y_pred))\n",
    "print(\"r: \", recall_score(y_true, y_pred))\n",
    "print(\"f1: \", f1_score(y_true, y_pred))\n",
    "print(classification_report(y_true, y_pred, mode='strict', scheme=IOB2))"
   ]
  }
 ],
 "metadata": {
  "kernelspec": {
   "display_name": "adl-hw1",
   "language": "python",
   "name": "adl-hw1"
  },
  "language_info": {
   "codemirror_mode": {
    "name": "ipython",
    "version": 3
   },
   "file_extension": ".py",
   "mimetype": "text/x-python",
   "name": "python",
   "nbconvert_exporter": "python",
   "pygments_lexer": "ipython3",
   "version": "3.9.13"
  }
 },
 "nbformat": 4,
 "nbformat_minor": 5
}
